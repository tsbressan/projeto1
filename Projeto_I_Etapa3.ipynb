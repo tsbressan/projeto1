{
 "cells": [
  {
   "cell_type": "markdown",
   "metadata": {},
   "source": [
    "# Etapa III - Projeto I - Aplicação de Métodos de Aprendizagem de Máquina"
   ]
  },
  {
   "cell_type": "markdown",
   "metadata": {},
   "source": [
    "Importação das bibliotecas\n",
    "Principal biblioteca para utilização dos algoritmos de machine learning: sklearn"
   ]
  },
  {
   "cell_type": "code",
   "execution_count": 203,
   "metadata": {},
   "outputs": [],
   "source": [
    "import itertools\n",
    "from sklearn.ensemble import RandomForestClassifier, GradientBoostingClassifier, AdaBoostClassifier\n",
    "from sklearn.model_selection import train_test_split\n",
    "import pandas as pd\n",
    "import matplotlib.pyplot as plt\n",
    "import numpy as np\n",
    "from sklearn.model_selection import cross_val_score\n",
    "from sklearn import metrics\n",
    "from sklearn.metrics import confusion_matrix\n",
    "from sklearn import preprocessing\n",
    "from sklearn.metrics import plot_confusion_matrix\n",
    "from IPython.display import Image\n",
    "\n",
    "import warnings\n",
    "warnings.filterwarnings(\"ignore\")"
   ]
  },
  {
   "cell_type": "code",
   "execution_count": null,
   "metadata": {},
   "outputs": [],
   "source": []
  },
  {
   "cell_type": "markdown",
   "metadata": {},
   "source": [
    "Arquivo específico de configuração. \n",
    "Será separada algumas informações em arquivo próprio (.py) visando melhorar a configuração\n",
    "e possível portabilidade entre computadores evitando editar esse arquivo."
   ]
  },
  {
   "cell_type": "code",
   "execution_count": 204,
   "metadata": {},
   "outputs": [],
   "source": [
    "import config\n",
    "#config start\n",
    "dataset = config.dataset + \"IODP/\"\n",
    "#-----------"
   ]
  },
  {
   "cell_type": "markdown",
   "metadata": {},
   "source": [
    "Definição de funções específicas para utilização no código\n",
    "Função: print_accuracy_report - imprime resumo completo do cross validation.\n",
    "Função: plot_confusion_matrix - imprime resumo completo da matriz confusão."
   ]
  },
  {
   "cell_type": "code",
   "execution_count": 151,
   "metadata": {},
   "outputs": [],
   "source": [
    "#functions-----\n",
    "def print_accuracy_report(classifier_rf, X_train, y_train, num_validations=5):\n",
    "    accuracy = cross_val_score(classifier_rf, X_train, y_train, scoring='accuracy', cv=num_validations)\n",
    "    print (\"Accuracy:\" + str(round(100*accuracy.mean(), 2)) + \"%\")\n",
    "    f1 = cross_val_score(classifier_rf,X_train, y_train, scoring='f1_macro', cv=num_validations)\n",
    "    print (\"F1: \" + str(round(100*f1.mean(), 2)) + \"%\")\n",
    "    precision = cross_val_score(classifier_rf,X_train, y_train, scoring='precision_weighted', cv=num_validations)\n",
    "    print (\"Precision: \" + str(round(100*precision.mean(), 2)) + \"%\")\n",
    "    recall = cross_val_score(classifier_rf, X_train, y_train, scoring='recall_weighted', cv=num_validations)\n",
    "    print (\"Recall: \" + str(round(100*recall.mean(), 2)) + \"%\") \n",
    "    return str(round(100*accuracy.mean(), 2)) + str(round(100*f1.mean(), 2)) + str(round(100*precision.mean(), 2)) + str(round(100*recall.mean(), 2))\n",
    "\n",
    "def cross_valid_list (classifier_rf, X_train, y_train, num_validations=5):\n",
    "    accuracy = cross_val_score(classifier_rf, X_train, y_train, scoring='accuracy', cv=num_validations)\n",
    "    f1 = cross_val_score(classifier_rf,X_train, y_train, scoring='f1_macro', cv=num_validations)\n",
    "    precision = cross_val_score(classifier_rf,X_train, y_train, scoring='precision_weighted', cv=num_validations)\n",
    "    recall = cross_val_score(classifier_rf, X_train, y_train, scoring='recall_weighted', cv=num_validations)\n",
    "    \n",
    "    accuracy  = round(100*accuracy.mean(), 2)\n",
    "    f1        = round(100*f1.mean(), 2)\n",
    "    precision = round(100*precision.mean(), 2) \n",
    "    recall    = round(100*recall.mean(), 2)\n",
    "    return_cross = [accuracy, f1, precision, recall]\n",
    "    return return_cross\n",
    "\n",
    "def plot_confusion_matrix(cm, classes,dataset,name_file,\n",
    "                          normalize=False,\n",
    "                          title='Confusion matrix',\n",
    "                          cmap=plt.cm.Blues\n",
    "                          ):\n",
    "    \"\"\"\n",
    "    This function prints and plots the confusion matrix.\n",
    "    Normalization can be applied by setting `normalize=True`.\n",
    "    \"\"\"\n",
    "    if normalize:\n",
    "        cm = cm.astype('float') / cm.sum(axis=1)[:, np.newaxis]\n",
    "        print(\"Normalized confusion matrix\")\n",
    "    else:\n",
    "        print('Confusion matrix, without normalization')\n",
    "\n",
    "    print(cm)\n",
    "\n",
    "\n",
    "    plt.figure(figsize=(8, 6))\n",
    "    plt.imshow(cm, interpolation='nearest', cmap=cmap)\n",
    "    plt.title(title)\n",
    "    plt.colorbar()\n",
    "    tick_marks = np.arange(len(classes))\n",
    "    plt.xticks(tick_marks, classes, rotation=45)\n",
    "    plt.yticks(tick_marks, classes)\n",
    "\n",
    "    fmt = '.2f' if normalize else 'd'\n",
    "    thresh = cm.max() / 2.\n",
    "    for i, j in itertools.product(range(cm.shape[0]), range(cm.shape[1])):\n",
    "        plt.text(j, i, format(cm[i, j], fmt),\n",
    "                 horizontalalignment=\"center\",\n",
    "                 color=\"white\" if cm[i, j] > thresh else \"black\")\n",
    "    plt.xlim(-0.5, 5.5) #figure size according to quantity of cod_lit\n",
    "    plt.ylim(5.5, -0.5) #figure size according to quantity of cod_lit\n",
    "\n",
    "\n",
    "\n",
    "    plt.tight_layout()\n",
    "    plt.ylabel('Predicted label')\n",
    "    plt.xlabel('True label')   \n",
    "    plt.savefig(dataset+name_file,dpi=96)\n",
    "#-------------------"
   ]
  },
  {
   "cell_type": "markdown",
   "metadata": {},
   "source": [
    "Importar - conexão com o dataset.\n",
    "Para conexão utiliza-se a biblioteca pandas com a função read_csv() resultado na saída um dataframe"
   ]
  },
  {
   "cell_type": "code",
   "execution_count": 152,
   "metadata": {},
   "outputs": [],
   "source": [
    "name_file = dataset+\"dataset_IODP_template_GP.csv\"\n",
    "          \n",
    "\n",
    "importDt = pd.read_csv(name_file,sep=\",\")"
   ]
  },
  {
   "cell_type": "markdown",
   "metadata": {},
   "source": [
    "Imprime o nome completo da url do dataset."
   ]
  },
  {
   "cell_type": "code",
   "execution_count": 153,
   "metadata": {},
   "outputs": [
    {
     "data": {
      "text/plain": [
       "'datasets/IODP/dataset_IODP_template_GP.csv'"
      ]
     },
     "execution_count": 153,
     "metadata": {},
     "output_type": "execute_result"
    }
   ],
   "source": [
    "name_file"
   ]
  },
  {
   "cell_type": "code",
   "execution_count": null,
   "metadata": {},
   "outputs": [],
   "source": []
  },
  {
   "cell_type": "markdown",
   "metadata": {},
   "source": [
    "Aplicar os métodos de pré-processamento:\n",
    "\n",
    "Método 1: Limpeza da base, onde serão removidos espaços em branco e tipos NaN\n",
    "Para espaços em branco será utilizado a propriedade pandas dataframe replace.\n",
    "Para tipos NaN será utilizada a propriedade pandas dataframe isna() (true ou false) e propriedade loc para encontrar o valor entre true e false. valor True indica o registro como NaN e caso contrário indica false.\n",
    "\n",
    "Método 2: Normalizar os dados: será utilizada a função normalize usando a norma max.\n",
    "Dimensionar os registros de uma forma padrão visando criar uma normalização entre os registros, neste caso, a norma max. Essa função é a maneira mais comum e rápida de dimensionar os dados seguindo o dimensionamento por cada feature individualmente."
   ]
  },
  {
   "cell_type": "markdown",
   "metadata": {},
   "source": [
    "Aplicar o método 1 de pré-processamento: Limpeza da base.\n",
    "Passo 1: Encontrar valores em branco ou vazio (' ') e remover."
   ]
  },
  {
   "cell_type": "code",
   "execution_count": 154,
   "metadata": {},
   "outputs": [],
   "source": [
    "importDt[\"Offset (cm)\"]  = importDt[\"Offset (cm)\"].replace(' ', '')\n",
    "importDt[\"GRA\"]          = importDt[\"GRA\"].replace(' ', '')\n",
    "importDt[\"P-wave\"]       = importDt[\"P-wave\"].replace(' ', '')\n",
    "importDt[\"caliper\"]      = importDt[\"caliper\"].replace(' ', '')\n",
    "importDt[\"sonic\"]        = importDt[\"sonic\"].replace(' ', '')\n",
    "importDt[\"MS\"]           = importDt[\"MS\"].replace(' ', '')\n",
    "importDt[\"ReflectanceL\"] = importDt[\"ReflectanceL\"].replace(' ', '')\n",
    "importDt[\"Reflectancea\"] = importDt[\"Reflectancea\"].replace(' ', '')\n",
    "importDt[\"Reflectanceb\"] = importDt[\"Reflectanceb\"].replace(' ', '')\n",
    "importDt[\"TristimulusX\"] = importDt[\"TristimulusX\"].replace(' ', '')\n",
    "importDt[\"TristimulusY\"] = importDt[\"TristimulusY\"].replace(' ', '')\n",
    "importDt[\"TristimulusZ\"] = importDt[\"TristimulusZ\"].replace(' ', '')\n",
    "importDt[\"cod_lit\"]      = importDt[\"cod_lit\"].replace(' ', '')"
   ]
  },
  {
   "cell_type": "markdown",
   "metadata": {},
   "source": [
    "Continuação do método 1: \n",
    "Passo 2: Verificar campos do tipo NaN. Para a feature: Offset (cm), caso encontre um valor NaN será removido. \n",
    "Para as demais features será preenchido utilizando o valor da média."
   ]
  },
  {
   "cell_type": "code",
   "execution_count": 155,
   "metadata": {},
   "outputs": [],
   "source": [
    "test_isna = importDt.isna()"
   ]
  },
  {
   "cell_type": "code",
   "execution_count": 156,
   "metadata": {},
   "outputs": [],
   "source": [
    "remove_isna = test_isna.loc[test_isna['Offset (cm)'] == True]\n",
    "indexx = remove_isna.index\n",
    "importDt = importDt.drop(indexx)"
   ]
  },
  {
   "cell_type": "code",
   "execution_count": 157,
   "metadata": {},
   "outputs": [],
   "source": [
    "importDt[['GRA','P-wave','caliper','sonic','MS','ReflectanceL','Reflectancea','Reflectanceb','TristimulusX','TristimulusY','TristimulusZ']] = importDt[['GRA','P-wave','caliper','sonic','MS','ReflectanceL','Reflectancea','Reflectanceb','TristimulusX','TristimulusY','TristimulusZ']].fillna(value=importDt[['GRA','P-wave','caliper','sonic','MS','ReflectanceL','Reflectancea','Reflectanceb','TristimulusX','TristimulusY','TristimulusZ']].mean())"
   ]
  },
  {
   "cell_type": "code",
   "execution_count": null,
   "metadata": {},
   "outputs": [],
   "source": []
  },
  {
   "cell_type": "markdown",
   "metadata": {},
   "source": [
    "É visualizado um trecho de dados do dataset, por default (5 registros)\n",
    "importDt é do tipo dataframe com linhas x colunas (linhas são os registros e colunas são as features)"
   ]
  },
  {
   "cell_type": "code",
   "execution_count": 158,
   "metadata": {},
   "outputs": [
    {
     "data": {
      "text/html": [
       "<div>\n",
       "<style scoped>\n",
       "    .dataframe tbody tr th:only-of-type {\n",
       "        vertical-align: middle;\n",
       "    }\n",
       "\n",
       "    .dataframe tbody tr th {\n",
       "        vertical-align: top;\n",
       "    }\n",
       "\n",
       "    .dataframe thead th {\n",
       "        text-align: right;\n",
       "    }\n",
       "</style>\n",
       "<table border=\"1\" class=\"dataframe\">\n",
       "  <thead>\n",
       "    <tr style=\"text-align: right;\">\n",
       "      <th></th>\n",
       "      <th>Exp</th>\n",
       "      <th>Site</th>\n",
       "      <th>Hole</th>\n",
       "      <th>Core</th>\n",
       "      <th>Type</th>\n",
       "      <th>Sect</th>\n",
       "      <th>Offset (cm)</th>\n",
       "      <th>Depth CSF-A (m)</th>\n",
       "      <th>GRA</th>\n",
       "      <th>P-wave</th>\n",
       "      <th>caliper</th>\n",
       "      <th>sonic</th>\n",
       "      <th>MS</th>\n",
       "      <th>ReflectanceL</th>\n",
       "      <th>Reflectancea</th>\n",
       "      <th>Reflectanceb</th>\n",
       "      <th>TristimulusX</th>\n",
       "      <th>TristimulusY</th>\n",
       "      <th>TristimulusZ</th>\n",
       "      <th>cod_lit</th>\n",
       "    </tr>\n",
       "  </thead>\n",
       "  <tbody>\n",
       "    <tr>\n",
       "      <th>0</th>\n",
       "      <td>354</td>\n",
       "      <td>U1449</td>\n",
       "      <td>A</td>\n",
       "      <td>2</td>\n",
       "      <td>H</td>\n",
       "      <td>1</td>\n",
       "      <td>12.5</td>\n",
       "      <td>6325</td>\n",
       "      <td>1797.0</td>\n",
       "      <td>1647</td>\n",
       "      <td>6.42</td>\n",
       "      <td>38.97</td>\n",
       "      <td>134.00</td>\n",
       "      <td>30.6</td>\n",
       "      <td>1.5</td>\n",
       "      <td>-0.1</td>\n",
       "      <td>6.3</td>\n",
       "      <td>6.5</td>\n",
       "      <td>7.0</td>\n",
       "      <td>10</td>\n",
       "    </tr>\n",
       "    <tr>\n",
       "      <th>1</th>\n",
       "      <td>354</td>\n",
       "      <td>U1449</td>\n",
       "      <td>A</td>\n",
       "      <td>2</td>\n",
       "      <td>H</td>\n",
       "      <td>1</td>\n",
       "      <td>15.0</td>\n",
       "      <td>6350</td>\n",
       "      <td>1804.0</td>\n",
       "      <td>1739</td>\n",
       "      <td>6.40</td>\n",
       "      <td>36.79</td>\n",
       "      <td>140.00</td>\n",
       "      <td>32.5</td>\n",
       "      <td>0.8</td>\n",
       "      <td>-0.6</td>\n",
       "      <td>7.0</td>\n",
       "      <td>7.3</td>\n",
       "      <td>8.0</td>\n",
       "      <td>10</td>\n",
       "    </tr>\n",
       "    <tr>\n",
       "      <th>2</th>\n",
       "      <td>354</td>\n",
       "      <td>U1449</td>\n",
       "      <td>A</td>\n",
       "      <td>2</td>\n",
       "      <td>H</td>\n",
       "      <td>1</td>\n",
       "      <td>17.5</td>\n",
       "      <td>6375</td>\n",
       "      <td>1803.0</td>\n",
       "      <td>1725</td>\n",
       "      <td>6.41</td>\n",
       "      <td>37.15</td>\n",
       "      <td>168.33</td>\n",
       "      <td>30.9</td>\n",
       "      <td>0.4</td>\n",
       "      <td>0.3</td>\n",
       "      <td>6.3</td>\n",
       "      <td>6.6</td>\n",
       "      <td>7.0</td>\n",
       "      <td>10</td>\n",
       "    </tr>\n",
       "    <tr>\n",
       "      <th>3</th>\n",
       "      <td>354</td>\n",
       "      <td>U1449</td>\n",
       "      <td>A</td>\n",
       "      <td>2</td>\n",
       "      <td>H</td>\n",
       "      <td>1</td>\n",
       "      <td>20.0</td>\n",
       "      <td>6400</td>\n",
       "      <td>1705.0</td>\n",
       "      <td>1729</td>\n",
       "      <td>6.41</td>\n",
       "      <td>37.08</td>\n",
       "      <td>228.00</td>\n",
       "      <td>29.2</td>\n",
       "      <td>1.2</td>\n",
       "      <td>-0.3</td>\n",
       "      <td>5.7</td>\n",
       "      <td>5.9</td>\n",
       "      <td>6.4</td>\n",
       "      <td>10</td>\n",
       "    </tr>\n",
       "    <tr>\n",
       "      <th>4</th>\n",
       "      <td>354</td>\n",
       "      <td>U1449</td>\n",
       "      <td>A</td>\n",
       "      <td>2</td>\n",
       "      <td>H</td>\n",
       "      <td>1</td>\n",
       "      <td>22.5</td>\n",
       "      <td>6425</td>\n",
       "      <td>1799.0</td>\n",
       "      <td>1644</td>\n",
       "      <td>6.43</td>\n",
       "      <td>39.11</td>\n",
       "      <td>286.67</td>\n",
       "      <td>31.3</td>\n",
       "      <td>0.5</td>\n",
       "      <td>-0.4</td>\n",
       "      <td>6.5</td>\n",
       "      <td>6.8</td>\n",
       "      <td>7.4</td>\n",
       "      <td>10</td>\n",
       "    </tr>\n",
       "  </tbody>\n",
       "</table>\n",
       "</div>"
      ],
      "text/plain": [
       "   Exp   Site Hole  Core Type Sect  Offset (cm)  Depth CSF-A (m)     GRA  \\\n",
       "0  354  U1449    A     2    H    1         12.5             6325  1797.0   \n",
       "1  354  U1449    A     2    H    1         15.0             6350  1804.0   \n",
       "2  354  U1449    A     2    H    1         17.5             6375  1803.0   \n",
       "3  354  U1449    A     2    H    1         20.0             6400  1705.0   \n",
       "4  354  U1449    A     2    H    1         22.5             6425  1799.0   \n",
       "\n",
       "   P-wave  caliper  sonic      MS  ReflectanceL  Reflectancea  Reflectanceb  \\\n",
       "0    1647     6.42  38.97  134.00          30.6           1.5          -0.1   \n",
       "1    1739     6.40  36.79  140.00          32.5           0.8          -0.6   \n",
       "2    1725     6.41  37.15  168.33          30.9           0.4           0.3   \n",
       "3    1729     6.41  37.08  228.00          29.2           1.2          -0.3   \n",
       "4    1644     6.43  39.11  286.67          31.3           0.5          -0.4   \n",
       "\n",
       "   TristimulusX  TristimulusY  TristimulusZ  cod_lit  \n",
       "0           6.3           6.5           7.0       10  \n",
       "1           7.0           7.3           8.0       10  \n",
       "2           6.3           6.6           7.0       10  \n",
       "3           5.7           5.9           6.4       10  \n",
       "4           6.5           6.8           7.4       10  "
      ]
     },
     "execution_count": 158,
     "metadata": {},
     "output_type": "execute_result"
    }
   ],
   "source": [
    "importDt.head()"
   ]
  },
  {
   "cell_type": "markdown",
   "metadata": {},
   "source": [
    "Tamanho do dataset em linhas x colunas (registros x features)"
   ]
  },
  {
   "cell_type": "code",
   "execution_count": 159,
   "metadata": {},
   "outputs": [
    {
     "data": {
      "text/plain": [
       "(19560, 20)"
      ]
     },
     "execution_count": 159,
     "metadata": {},
     "output_type": "execute_result"
    }
   ],
   "source": [
    "importDt.shape"
   ]
  },
  {
   "cell_type": "code",
   "execution_count": null,
   "metadata": {},
   "outputs": [],
   "source": []
  },
  {
   "cell_type": "markdown",
   "metadata": {},
   "source": [
    "Divisão dos registros entre as litologias conforme definido no projeto."
   ]
  },
  {
   "cell_type": "code",
   "execution_count": 160,
   "metadata": {},
   "outputs": [],
   "source": [
    "count_cod_lit = importDt[\"cod_lit\"].value_counts()"
   ]
  },
  {
   "cell_type": "code",
   "execution_count": 161,
   "metadata": {},
   "outputs": [
    {
     "data": {
      "text/plain": [
       "15    8760\n",
       "14    5679\n",
       "10    3932\n",
       "12     669\n",
       "11     361\n",
       "13     159\n",
       "Name: cod_lit, dtype: int64"
      ]
     },
     "execution_count": 161,
     "metadata": {},
     "output_type": "execute_result"
    }
   ],
   "source": [
    "count_cod_lit"
   ]
  },
  {
   "cell_type": "code",
   "execution_count": null,
   "metadata": {},
   "outputs": [],
   "source": []
  },
  {
   "cell_type": "markdown",
   "metadata": {},
   "source": [
    "Selecionando as features para treinamento e teste:\n",
    "a variável X possui as features para treinamento e teste\n",
    "a variável z possui a feature específico para predição (somente a feature cod_lit)"
   ]
  },
  {
   "cell_type": "code",
   "execution_count": 162,
   "metadata": {},
   "outputs": [],
   "source": [
    "features = importDt.columns.difference([\"Exp\", \"Site\", \"Hole\",\"Core\",\"Type\",\"Sect\",\"Depth CSF-A (m)\",\"cod_lit\"])\n",
    "\n",
    "\n",
    "X = np.array(importDt[features].values)\n",
    "y = np.array(importDt['cod_lit'].values)\n"
   ]
  },
  {
   "cell_type": "code",
   "execution_count": null,
   "metadata": {},
   "outputs": [],
   "source": []
  },
  {
   "cell_type": "markdown",
   "metadata": {},
   "source": [
    "Dividir/particionar os dados:\n",
    "    Conforme especificado no projeto, é dividido os dados conforme a combinação:\n",
    "        Train e teste respectivamente: 70%-30%."
   ]
  },
  {
   "cell_type": "code",
   "execution_count": 163,
   "metadata": {},
   "outputs": [],
   "source": [
    "X_train, X_test, y_train, y_test = train_test_split(X, y, test_size=0.30,random_state=42)"
   ]
  },
  {
   "cell_type": "code",
   "execution_count": null,
   "metadata": {},
   "outputs": [],
   "source": []
  },
  {
   "cell_type": "markdown",
   "metadata": {},
   "source": [
    "Aplicar o método 2 de pré-processamento: normalização.\n",
    "axis=0 indica que cada feature é normalizada separadamente."
   ]
  },
  {
   "cell_type": "code",
   "execution_count": 164,
   "metadata": {},
   "outputs": [],
   "source": [
    "X_trainnormalized = preprocessing.normalize(X_train, norm='max', axis=0)\n",
    "X_testnormalized  = preprocessing.normalize(X_test, norm='max', axis=0)"
   ]
  },
  {
   "cell_type": "code",
   "execution_count": null,
   "metadata": {},
   "outputs": [],
   "source": []
  },
  {
   "cell_type": "markdown",
   "metadata": {},
   "source": [
    ">**Ensemble methods**"
   ]
  },
  {
   "cell_type": "markdown",
   "metadata": {},
   "source": [
    "Ensemble methods ou Ensemble learning é um paradigma da machine learning onde vários modelos são treinados e testados visando resolver o mesmo problema e combinados para obter um melhor resultado (normalmente o resultado médio é utilizado). Seu objeto é melhorar a generalização e robustez sobre um único estimador.\n",
    "Duas famílias de métodos compõem o ensemble methods: Averaging methods e Boosting methods.\n",
    "*Averaging methods* o objetivo desta família de ensemble é construtir vários estimadores de forma independente e após calcular a média de suas previsões. Utilizando a média, normalmente, obtense o melhor resultado do que qualquer estimador de base única e com sua variância reduzida. Cita-se como exemplo os métodos Random Forest e Neighbors-based.\n",
    "*Boosting methods* nesta família os estimadores são elaborados de forma sequencial e tenta-se reduzir o vies (bias) do estimador combinado. Não utiliza-se média e a combinação visa encontrar modelos fracos e produzir um conjunto poderoso de resultados. Cita-se como exemplo os métodos AdaBoost e Gradient Tree Boosting\n"
   ]
  },
  {
   "cell_type": "markdown",
   "metadata": {},
   "source": [
    "**Aplicação do algoritmo: Random Forest**"
   ]
  },
  {
   "cell_type": "markdown",
   "metadata": {},
   "source": [
    "O método Random Forest (RF) é uma técnica de machine learning (Ensemble methods) que atua na combinação de um conjunto de árvores. Significa que um conjunto aleatória de combinações de árvores é utilizado por este método visando buscar a melhor média da classificação entre todas as combinações disponíveis. \n"
   ]
  },
  {
   "cell_type": "markdown",
   "metadata": {},
   "source": [
    "A configuração max_depth e n_estimators segue um valor definido de forma arbitrária conforme os melhores valores observados \n",
    "entre treinamento e teste. Observa-se que partir de n_estimators=400 estabeliza-se o valor  da acurácia."
   ]
  },
  {
   "cell_type": "code",
   "execution_count": 165,
   "metadata": {},
   "outputs": [
    {
     "data": {
      "text/plain": [
       "RandomForestClassifier(max_depth=10, n_estimators=400, n_jobs=-1,\n",
       "                       random_state=42)"
      ]
     },
     "execution_count": 165,
     "metadata": {},
     "output_type": "execute_result"
    }
   ],
   "source": [
    "classifier_rf = RandomForestClassifier(max_depth=10, n_estimators=400, random_state=42, n_jobs=-1)\n",
    "classifier_rf.fit(X_trainnormalized, y_train)"
   ]
  },
  {
   "cell_type": "code",
   "execution_count": null,
   "metadata": {},
   "outputs": [],
   "source": []
  },
  {
   "cell_type": "markdown",
   "metadata": {},
   "source": [
    "Utilização de métricas para avaliar os resultados do RF\n",
    "Aqui utiliza-se a função predict buscando criar um preditor conforme o % reservado no test (via função train_test_split) que, neste caso, é 30% para test (aleatório)"
   ]
  },
  {
   "cell_type": "code",
   "execution_count": 166,
   "metadata": {},
   "outputs": [],
   "source": [
    "y_predRF = classifier_rf.predict(X_testnormalized)"
   ]
  },
  {
   "cell_type": "markdown",
   "metadata": {},
   "source": [
    "Relatório da classificação - acurácia, precision, recall e f1"
   ]
  },
  {
   "cell_type": "code",
   "execution_count": 167,
   "metadata": {},
   "outputs": [
    {
     "name": "stdout",
     "output_type": "stream",
     "text": [
      "              precision    recall  f1-score   support\n",
      "\n",
      "          10       0.64      0.73      0.68      1014\n",
      "          11       0.00      0.00      0.00         0\n",
      "          12       0.29      0.66      0.40        90\n",
      "          13       0.00      0.00      0.00         0\n",
      "          14       0.81      0.62      0.70      2192\n",
      "          15       0.93      0.96      0.95      2572\n",
      "\n",
      "    accuracy                           0.79      5868\n",
      "   macro avg       0.44      0.50      0.46      5868\n",
      "weighted avg       0.82      0.79      0.80      5868\n",
      "\n"
     ]
    }
   ],
   "source": [
    "print(metrics.classification_report(y_predRF, y_test))"
   ]
  },
  {
   "cell_type": "code",
   "execution_count": 168,
   "metadata": {},
   "outputs": [
    {
     "name": "stdout",
     "output_type": "stream",
     "text": [
      "Accuracy: \n",
      "0.7907293796864349\n"
     ]
    }
   ],
   "source": [
    "print (\"Accuracy: \")\n",
    "print(metrics.accuracy_score(y_predRF, y_test))\n",
    "acc_RF = metrics.accuracy_score(y_predRF, y_test)"
   ]
  },
  {
   "cell_type": "markdown",
   "metadata": {},
   "source": [
    "O cross-validation é utilizado especificamente com os dados de treinamento buscando visualizar a melhor combinação de treinamento com k grupos (utilizado k=5)"
   ]
  },
  {
   "cell_type": "code",
   "execution_count": 169,
   "metadata": {},
   "outputs": [
    {
     "name": "stdout",
     "output_type": "stream",
     "text": [
      "Report cross-validatin: \n",
      "Accuracy:84.25%\n",
      "F1: 52.44%\n",
      "Precision: 84.76%\n",
      "Recall: 84.25%\n"
     ]
    },
    {
     "data": {
      "text/plain": [
       "[84.25, 52.44, 84.76, 84.25]"
      ]
     },
     "execution_count": 169,
     "metadata": {},
     "output_type": "execute_result"
    }
   ],
   "source": [
    "print (\"Report cross-validatin: \")\n",
    "print_accuracy_report(classifier_rf, X_train, y_train)\n",
    "cross_valid_list(classifier_rf, X_train, y_train)"
   ]
  },
  {
   "cell_type": "code",
   "execution_count": 170,
   "metadata": {},
   "outputs": [
    {
     "name": "stdout",
     "output_type": "stream",
     "text": [
      "Confusion matrix, without normalization\n",
      "[[ 744    0    1    0  417    7]\n",
      " [  25    0    2    0   75    0]\n",
      " [   8    0   59    0  133    2]\n",
      " [  21    0    6    0   24    0]\n",
      " [ 211    0   21    0 1366   92]\n",
      " [   5    0    1    0  177 2471]]\n"
     ]
    },
    {
     "data": {
      "text/plain": [
       "<Figure size 576x432 with 0 Axes>"
      ]
     },
     "metadata": {},
     "output_type": "display_data"
    },
    {
     "data": {
      "image/png": "[encoded data removed]",
      "text/plain": [
       "<Figure size 576x432 with 2 Axes>"
      ]
     },
     "metadata": {
      "needs_background": "light"
     },
     "output_type": "display_data"
    }
   ],
   "source": [
    "# Compute confusion matrix\n",
    "cnf_matrix = confusion_matrix(y_test, y_predRF)\n",
    "np.set_printoptions(precision=2)\n",
    "class_names = list(config.litho) #ajust cod_lit in config file.\n",
    "plt.figure(figsize=(8, 6))\n",
    "plot_confusion_matrix(cnf_matrix, classes=class_names,\n",
    "                      title='Confusion matrix',dataset=dataset,name_file=\"cm_RF.jpg\")\n",
    "\n",
    "plt.show()"
   ]
  },
  {
   "cell_type": "code",
   "execution_count": null,
   "metadata": {},
   "outputs": [],
   "source": []
  },
  {
   "cell_type": "markdown",
   "metadata": {},
   "source": [
    "**Aplicação do algoritmo: Gradient Tree Boosting**"
   ]
  },
  {
   "cell_type": "markdown",
   "metadata": {},
   "source": [
    "Aplicação do algoritmo: Gradient Tree Boosting.\n"
   ]
  },
  {
   "cell_type": "code",
   "execution_count": 171,
   "metadata": {},
   "outputs": [
    {
     "data": {
      "text/plain": [
       "GradientBoostingClassifier(learning_rate=1.0, max_depth=1, n_estimators=5,\n",
       "                           random_state=0)"
      ]
     },
     "execution_count": 171,
     "metadata": {},
     "output_type": "execute_result"
    }
   ],
   "source": [
    "classifier_gb = GradientBoostingClassifier(n_estimators=5, learning_rate=1.0,max_depth=1, random_state=0)\n",
    "classifier_gb.fit(X_trainnormalized, y_train)"
   ]
  },
  {
   "cell_type": "code",
   "execution_count": null,
   "metadata": {},
   "outputs": [],
   "source": []
  },
  {
   "cell_type": "markdown",
   "metadata": {},
   "source": [
    "Utilização de métricas para avaliar os resultados do GB\n",
    "Aqui utiliza-se a função predict buscando criar um preditor conforme o % reservado no test (via função train_test_split) que, neste caso, é 30% para test (aleatório)"
   ]
  },
  {
   "cell_type": "code",
   "execution_count": 172,
   "metadata": {},
   "outputs": [],
   "source": [
    "y_predGB = classifier_gb.predict(X_testnormalized)"
   ]
  },
  {
   "cell_type": "markdown",
   "metadata": {},
   "source": [
    "Relatório da classificação - acurácia, precision, recall e f1"
   ]
  },
  {
   "cell_type": "code",
   "execution_count": 173,
   "metadata": {},
   "outputs": [
    {
     "name": "stdout",
     "output_type": "stream",
     "text": [
      "              precision    recall  f1-score   support\n",
      "\n",
      "          10       0.70      0.66      0.68      1253\n",
      "          11       0.01      0.25      0.02         4\n",
      "          12       0.08      0.35      0.13        46\n",
      "          13       0.00      0.00      0.00         0\n",
      "          14       0.70      0.60      0.65      1968\n",
      "          15       0.92      0.94      0.93      2597\n",
      "\n",
      "    accuracy                           0.76      5868\n",
      "   macro avg       0.40      0.47      0.40      5868\n",
      "weighted avg       0.79      0.76      0.78      5868\n",
      "\n"
     ]
    }
   ],
   "source": [
    "print(metrics.classification_report(y_predGB, y_test))"
   ]
  },
  {
   "cell_type": "code",
   "execution_count": 174,
   "metadata": {},
   "outputs": [
    {
     "name": "stdout",
     "output_type": "stream",
     "text": [
      "Accuracy: \n",
      "0.7614178595773687\n"
     ]
    }
   ],
   "source": [
    "print (\"Accuracy: \")\n",
    "print(metrics.accuracy_score(y_predGB, y_test))\n",
    "acc_GB = metrics.accuracy_score(y_predGB, y_test)"
   ]
  },
  {
   "cell_type": "code",
   "execution_count": 175,
   "metadata": {},
   "outputs": [
    {
     "name": "stdout",
     "output_type": "stream",
     "text": [
      "Report cross-validatin: \n",
      "Accuracy:76.89%\n",
      "F1: 42.79%\n",
      "Precision: 75.27%\n",
      "Recall: 76.89%\n"
     ]
    },
    {
     "data": {
      "text/plain": [
       "[76.89, 42.79, 75.27, 76.89]"
      ]
     },
     "execution_count": 175,
     "metadata": {},
     "output_type": "execute_result"
    }
   ],
   "source": [
    "print (\"Report cross-validatin: \")\n",
    "print_accuracy_report(classifier_gb, X_train, y_train)\n",
    "cross_valid_list(classifier_gb, X_train, y_train)"
   ]
  },
  {
   "cell_type": "code",
   "execution_count": 176,
   "metadata": {},
   "outputs": [
    {
     "name": "stdout",
     "output_type": "stream",
     "text": [
      "Confusion matrix, without normalization\n",
      "[[ 823    1    0    0  337    8]\n",
      " [  36    1    4    0   60    1]\n",
      " [  17    0   16    0  168    1]\n",
      " [  25    2    0    0   23    1]\n",
      " [ 344    0   26    0 1181  139]\n",
      " [   8    0    0    0  199 2447]]\n"
     ]
    },
    {
     "data": {
      "text/plain": [
       "<Figure size 576x432 with 0 Axes>"
      ]
     },
     "metadata": {},
     "output_type": "display_data"
    },
    {
     "data": {
      "image/png": "[encoded data removed]",
      "text/plain": [
       "<Figure size 576x432 with 2 Axes>"
      ]
     },
     "metadata": {
      "needs_background": "light"
     },
     "output_type": "display_data"
    }
   ],
   "source": [
    "# Compute confusion matrix\n",
    "cnf_matrix = confusion_matrix(y_test, y_predGB)\n",
    "np.set_printoptions(precision=2)\n",
    "class_names = list(config.litho) #ajust cod_lit in config file.\n",
    "plt.figure(figsize=(8, 6))\n",
    "plot_confusion_matrix(cnf_matrix, classes=class_names,\n",
    "                      title='Confusion matrix',dataset=dataset,name_file=\"cm_GB.jpg\")\n",
    "\n",
    "plt.show()"
   ]
  },
  {
   "cell_type": "code",
   "execution_count": null,
   "metadata": {},
   "outputs": [],
   "source": []
  },
  {
   "cell_type": "markdown",
   "metadata": {},
   "source": [
    "**Aplicação do algoritmo: AdaBoost**"
   ]
  },
  {
   "cell_type": "markdown",
   "metadata": {},
   "source": [
    "Aplicação do algoritmo: AdaBoost"
   ]
  },
  {
   "cell_type": "code",
   "execution_count": 177,
   "metadata": {},
   "outputs": [
    {
     "data": {
      "text/plain": [
       "AdaBoostClassifier(n_estimators=6, random_state=42)"
      ]
     },
     "execution_count": 177,
     "metadata": {},
     "output_type": "execute_result"
    }
   ],
   "source": [
    "classifier_ab = AdaBoostClassifier(n_estimators=6, random_state=42)\n",
    "classifier_ab.fit(X_trainnormalized, y_train)"
   ]
  },
  {
   "cell_type": "code",
   "execution_count": null,
   "metadata": {},
   "outputs": [],
   "source": []
  },
  {
   "cell_type": "markdown",
   "metadata": {},
   "source": [
    "Utilização de métricas para avaliar os resultados do AB\n",
    "Aqui utiliza-se a função predict buscando criar um preditor conforme o % reservado no test (via função train_test_split) que, neste caso, é 30% para test (aleatório)"
   ]
  },
  {
   "cell_type": "code",
   "execution_count": 178,
   "metadata": {},
   "outputs": [],
   "source": [
    "y_predAB = classifier_ab.predict(X_testnormalized)"
   ]
  },
  {
   "cell_type": "code",
   "execution_count": 179,
   "metadata": {},
   "outputs": [
    {
     "name": "stdout",
     "output_type": "stream",
     "text": [
      "              precision    recall  f1-score   support\n",
      "\n",
      "          10       0.80      0.59      0.68      1595\n",
      "          11       0.00      0.00      0.00         0\n",
      "          12       0.00      0.00      0.00         0\n",
      "          13       0.04      0.67      0.07         3\n",
      "          14       0.58      0.57      0.58      1708\n",
      "          15       0.89      0.92      0.91      2562\n",
      "\n",
      "    accuracy                           0.73      5868\n",
      "   macro avg       0.39      0.46      0.37      5868\n",
      "weighted avg       0.78      0.73      0.75      5868\n",
      "\n"
     ]
    }
   ],
   "source": [
    "print(metrics.classification_report(y_predAB, y_test))"
   ]
  },
  {
   "cell_type": "code",
   "execution_count": 180,
   "metadata": {},
   "outputs": [
    {
     "name": "stdout",
     "output_type": "stream",
     "text": [
      "Accuracy: \n",
      "0.7305725971370143\n"
     ]
    }
   ],
   "source": [
    "print (\"Accuracy: \")\n",
    "print(metrics.accuracy_score(y_predAB, y_test))\n",
    "acc_AB = metrics.accuracy_score(y_predAB, y_test)"
   ]
  },
  {
   "cell_type": "code",
   "execution_count": 181,
   "metadata": {},
   "outputs": [
    {
     "name": "stdout",
     "output_type": "stream",
     "text": [
      "Report cross-validatin: \n",
      "Accuracy:73.33%\n",
      "F1: 37.45%\n",
      "Precision: 71.25%\n",
      "Recall: 73.33%\n"
     ]
    },
    {
     "data": {
      "text/plain": [
       "[73.33, 37.45, 71.25, 73.33]"
      ]
     },
     "execution_count": 181,
     "metadata": {},
     "output_type": "execute_result"
    }
   ],
   "source": [
    "print (\"Report cross-validatin: \")\n",
    "print_accuracy_report(classifier_ab, X_train, y_train)\n",
    "cross_valid_list(classifier_ab, X_train, y_train)"
   ]
  },
  {
   "cell_type": "code",
   "execution_count": 182,
   "metadata": {},
   "outputs": [
    {
     "name": "stdout",
     "output_type": "stream",
     "text": [
      "Confusion matrix, without normalization\n",
      "[[ 936    0    0    1  225    7]\n",
      " [  57    0    0    0   43    2]\n",
      " [  14    0    0    0  183    5]\n",
      " [  31    0    0    2   18    0]\n",
      " [ 531    0    0    0  980  179]\n",
      " [  26    0    0    0  259 2369]]\n"
     ]
    },
    {
     "data": {
      "text/plain": [
       "<Figure size 576x432 with 0 Axes>"
      ]
     },
     "metadata": {},
     "output_type": "display_data"
    },
    {
     "data": {
      "image/png": "[encoded data removed]",
      "text/plain": [
       "<Figure size 576x432 with 2 Axes>"
      ]
     },
     "metadata": {
      "needs_background": "light"
     },
     "output_type": "display_data"
    }
   ],
   "source": [
    "# Compute confusion matrix\n",
    "cnf_matrix = confusion_matrix(y_test, y_predAB)\n",
    "np.set_printoptions(precision=2)\n",
    "class_names = list(config.litho) #ajust cod_lit in config file.\n",
    "plt.figure(figsize=(8, 6))\n",
    "plot_confusion_matrix(cnf_matrix, classes=class_names,\n",
    "                      title='Confusion matrix',dataset=dataset,name_file=\"cm_AB.jpg\")\n",
    "\n",
    "plt.show()"
   ]
  },
  {
   "cell_type": "code",
   "execution_count": null,
   "metadata": {},
   "outputs": [],
   "source": []
  },
  {
   "cell_type": "markdown",
   "metadata": {},
   "source": [
    ">**Gráfico dos resultados**"
   ]
  },
  {
   "cell_type": "markdown",
   "metadata": {},
   "source": [
    "Gráfico das acurácias entre os três métodos de machine learning"
   ]
  },
  {
   "cell_type": "code",
   "execution_count": 183,
   "metadata": {},
   "outputs": [
    {
     "data": {
      "image/png": "[encoded data removed]",
      "text/plain": [
       "<Figure size 576x432 with 1 Axes>"
      ]
     },
     "metadata": {
      "needs_background": "light"
     },
     "output_type": "display_data"
    }
   ],
   "source": [
    "fig = plt.figure(figsize=(8, 6))\n",
    "ax = fig.add_axes([0,0,1,1])\n",
    "ax.set_title('Gráfico das acurácias entre os três métodos de machine learning')\n",
    "ax.set_ylabel('% de acurácia')\n",
    "ax.set_xlabel('Métodos')\n",
    "ax.grid(True)\n",
    "ax.set_ylim(0.0, 100.0)\n",
    "met = ['RF', 'GB', 'AB']\n",
    "resul = [acc_RF*100, acc_GB*100, acc_AB*100]\n",
    "ax.bar(met,resul, width=0.30)\n",
    "\n",
    "plt.show()"
   ]
  },
  {
   "cell_type": "code",
   "execution_count": 211,
   "metadata": {},
   "outputs": [
    {
     "data": {
      "text/plain": [
       "0.7305725971370143"
      ]
     },
     "execution_count": 211,
     "metadata": {},
     "output_type": "execute_result"
    }
   ],
   "source": [
    "acc_AB"
   ]
  },
  {
   "cell_type": "markdown",
   "metadata": {},
   "source": [
    "Gráfico Cross validation - treinamento"
   ]
  },
  {
   "cell_type": "code",
   "execution_count": 184,
   "metadata": {},
   "outputs": [],
   "source": [
    "cv_ab = cross_valid_list(classifier_ab, X_train, y_train)\n",
    "cv_gb = cross_valid_list(classifier_gb, X_train, y_train)\n",
    "cv_rf = cross_valid_list(classifier_rf, X_train, y_train)"
   ]
  },
  {
   "cell_type": "code",
   "execution_count": 185,
   "metadata": {},
   "outputs": [],
   "source": [
    "acc_       = [cv_rf[0],cv_gb[0], cv_ab[0]]\n",
    "f1_        = [cv_rf[1],cv_gb[1], cv_ab[1]]\n",
    "precision_ = [cv_rf[2],cv_gb[2], cv_ab[2]]\n",
    "recall_    = [cv_rf[3],cv_gb[3], cv_ab[3]]"
   ]
  },
  {
   "cell_type": "code",
   "execution_count": 186,
   "metadata": {},
   "outputs": [],
   "source": [
    "labels = ['RF', 'GB', 'AB']"
   ]
  },
  {
   "cell_type": "code",
   "execution_count": 187,
   "metadata": {},
   "outputs": [
    {
     "data": {
      "image/png": "[encoded data removed]",
      "text/plain": [
       "<Figure size 576x432 with 1 Axes>"
      ]
     },
     "metadata": {
      "needs_background": "light"
     },
     "output_type": "display_data"
    }
   ],
   "source": [
    "dt_cross = pd.DataFrame({\"Accuracy\": acc_\n",
    "                       ,\"F1\": f1_\n",
    "                       ,\"Precision\": precision_ \n",
    "                        ,\"Recall\": recall_}  \n",
    "                       ,index=labels)\n",
    "\n",
    "ax = dt_cross.plot.bar(figsize=(8, 6))\n",
    "ax.set_ylabel('% de acurácia')\n",
    "ax.set_title('Gráfico Cross validation - treinamento')\n",
    "ax.grid(True)"
   ]
  },
  {
   "cell_type": "code",
   "execution_count": null,
   "metadata": {},
   "outputs": [],
   "source": []
  },
  {
   "cell_type": "markdown",
   "metadata": {},
   "source": [
    "Matriz confusão - RF, GB e AB"
   ]
  },
  {
   "cell_type": "code",
   "execution_count": 188,
   "metadata": {},
   "outputs": [
    {
     "data": {
      "image/jpeg": "[encoded data removed]",
      "text/plain": [
       "<IPython.core.display.Image object>"
      ]
     },
     "execution_count": 188,
     "metadata": {
      "image/jpeg": {
       "height": 400,
       "width": 400
      }
     },
     "output_type": "execute_result"
    }
   ],
   "source": [
    "Image(filename=dataset + \"cm_RF.jpg\",width=400, height=400)"
   ]
  },
  {
   "cell_type": "code",
   "execution_count": 189,
   "metadata": {},
   "outputs": [
    {
     "data": {
      "image/jpeg": "[encoded data removed]",
      "text/plain": [
       "<IPython.core.display.Image object>"
      ]
     },
     "execution_count": 189,
     "metadata": {
      "image/jpeg": {
       "height": 400,
       "width": 400
      }
     },
     "output_type": "execute_result"
    }
   ],
   "source": [
    "Image(filename=dataset + \"cm_GB.jpg\",width=400, height=400)"
   ]
  },
  {
   "cell_type": "code",
   "execution_count": 190,
   "metadata": {},
   "outputs": [
    {
     "data": {
      "image/jpeg": "[encoded data removed]",
      "text/plain": [
       "<IPython.core.display.Image object>"
      ]
     },
     "execution_count": 190,
     "metadata": {
      "image/jpeg": {
       "height": 400,
       "width": 400
      }
     },
     "output_type": "execute_result"
    }
   ],
   "source": [
    "Image(filename=dataset + \"cm_AB.jpg\",width=400, height=400)"
   ]
  },
  {
   "cell_type": "markdown",
   "metadata": {},
   "source": [
    ">**Resultado final**"
   ]
  },
  {
   "cell_type": "markdown",
   "metadata": {},
   "source": [
    "O dataset formado por dados geofísicos das expedições IODP 354, 355, 359 e 362 possue 19560 registros divididos em 20 features (colunas). Observa-se que para classificação os registros estão divididos em 6 classes (aqui chamados de cod_lit=código da litologia) numerados de 10 a 15 como segue:"
   ]
  },
  {
   "cell_type": "code",
   "execution_count": 191,
   "metadata": {},
   "outputs": [
    {
     "data": {
      "text/plain": [
       "{10: 'Very fine sand/sandstone, Fine sand/sandstone, Medium sand/sandstone, Coarse sand/sandstone, Sand,Sand/Sandstone',\n",
       " 11: 'Alternating sand/sandstone and mud/mudstone layers, Sandy clay/claystone, Sandy silt/siltstone',\n",
       " 12: 'Alternating silt/siltstone and clay/claystone layers, Clayey silt/siltstone',\n",
       " 13: 'Sand/sandstone-silt/siltstone-clay/claystone, Clayey sand/sandstone, Silty sand/sandstone',\n",
       " 14: 'Silt/Siltstone, Silty clay/claystone, Clay/claystone, Clay, Silt, Mudstone',\n",
       " 15: 'Calcareous silty clay/claystone, Calcareous silt/siltstone, Calcareous ooze, Chalk, Marlstone, Rudstone, Floatstone, Grainstone, Packstone, Wackestone, Boundstone, Limestone, Calcareous claystone'}"
      ]
     },
     "execution_count": 191,
     "metadata": {},
     "output_type": "execute_result"
    }
   ],
   "source": [
    "config.litho"
   ]
  },
  {
   "cell_type": "markdown",
   "metadata": {},
   "source": [
    "A formação das litologias (seleção) está vinculada com as características de cada expedição. Como as expedições são semelhantes (quanto a tipo de rocha estudada) pode-se agrupar as litologias formando esses 6 grupos.\n",
    "A quantidade de registros por classe de litologia (cod_lit) é observado abaixo:"
   ]
  },
  {
   "cell_type": "code",
   "execution_count": 192,
   "metadata": {},
   "outputs": [
    {
     "data": {
      "text/plain": [
       "15    8760\n",
       "14    5679\n",
       "10    3932\n",
       "12     669\n",
       "11     361\n",
       "13     159\n",
       "Name: cod_lit, dtype: int64"
      ]
     },
     "execution_count": 192,
     "metadata": {},
     "output_type": "execute_result"
    }
   ],
   "source": [
    "count_cod_lit"
   ]
  },
  {
   "cell_type": "markdown",
   "metadata": {},
   "source": [
    "As classes cod_lit (11, 12 e 13) possuem poucos registros visto que são litologias bem específicas, formadas pela intercalação entre sand, mud e clay formando uma litologia com poucos registros e localizada em pequenos locais na perfuração. Por ser uma litologia 'misturando' três composições diferentes, seus registros de propriedades são muito parecidos dificultando o treinamento e testes pelo algoritmo. Dessa forma observa-se que a classificação (via matriz confusão) não obteve bons resultados para estas três classes (11, 12 e 13).\n",
    "Na matriz confusão observa-se que para os três algoritmos os resultados foram satisfatórios (com acurácia superior a 73%) destacando as litologias 15 e 14 com melhores resultados. Apesar de as litologias 15 e 14 possuirem mais registros, são litologias com características litologias e registros de dados geofísicos bem distintos possibilizando ótimos resultados de classificação para a % de teste selecionada (30% de registros). Abaixo é observada o % de acerto para cada cod_lit em relação ao % total de testes (30% de registros):"
   ]
  },
  {
   "cell_type": "markdown",
   "metadata": {},
   "source": [
    "*% de acerto para cada cod_lit em relação ao % total de testes*"
   ]
  },
  {
   "cell_type": "code",
   "execution_count": 206,
   "metadata": {},
   "outputs": [
    {
     "data": {
      "image/png": "[encoded data removed]",
      "text/plain": [
       "<Figure size 576x432 with 1 Axes>"
      ]
     },
     "metadata": {
      "needs_background": "light"
     },
     "output_type": "display_data"
    }
   ],
   "source": [
    "te    = y_test\n",
    "preRF = y_predRF\n",
    "preGB = y_predGB\n",
    "preAB = y_predAB\n",
    "result_RF = te == preRF \n",
    "result_GB = te == preGB \n",
    "result_AB = te == preAB\n",
    "\n",
    "result_id = pd.DataFrame({\"Test\": te\n",
    "                       ,\"PredRF\": preRF\n",
    "                       ,\"PredGB\": preGB\n",
    "                       ,\"PredAB\": preAB\n",
    "                       ,\"ResultRF\": result_RF \n",
    "                       ,\"ResultGB\": result_GB \n",
    "                       ,\"ResultAB\": result_AB \n",
    "                        })\n",
    "\n",
    "litho_cod = list(config.litho)\n",
    "\n",
    "resultAcert = []\n",
    "for x in range(0,len(litho_cod)):\n",
    "    #print (litho_cod[x])\n",
    "    number_correct = result_id[(result_id[\"Test\"] == litho_cod[x])].count()\n",
    "    number_correct = number_correct[\"Test\"]\n",
    "    \n",
    "    #---RF    \n",
    "    number_correctTrueRF = result_id[(result_id[\"Test\"] == litho_cod[x]) & (result_id[\"ResultRF\"] == True)].count()\n",
    "    number_correctTrueRF = number_correctTrueRF[\"ResultRF\"]\n",
    "    #--RF\n",
    "    #---GB    \n",
    "    number_correctTrueGB = result_id[(result_id[\"Test\"] == litho_cod[x]) & (result_id[\"ResultGB\"] == True)].count()\n",
    "    number_correctTrueGB = number_correctTrueGB[\"ResultGB\"]\n",
    "    #--GB\n",
    "    #---AB    \n",
    "    number_correctTrueAB = result_id[(result_id[\"Test\"] == litho_cod[x]) & (result_id[\"ResultAB\"] == True)].count()\n",
    "    number_correctTrueAB = number_correctTrueAB[\"ResultAB\"]\n",
    "    #--AB\n",
    "    \n",
    "    resultAcert.append([number_correct,number_correctTrueRF,number_correctTrueGB,number_correctTrueAB])\n",
    "\n",
    "df_resultAcert = pd.DataFrame(resultAcert,\n",
    "                   columns=['Total', 'AcertosRF', 'AcertosGB', 'AcertosAB'])\n",
    "df_resultAcert.set_index([litho_cod], inplace=True)\n",
    "ax = df_resultAcert.plot.bar(figsize=(8, 6))\n",
    "ax.set_ylabel('Registros')\n",
    "ax.set_title('% de acerto para cada cod_lit em relação ao % total de testes')\n",
    "ax.grid(True)"
   ]
  },
  {
   "cell_type": "code",
   "execution_count": 208,
   "metadata": {},
   "outputs": [
    {
     "data": {
      "text/html": [
       "<div>\n",
       "<style scoped>\n",
       "    .dataframe tbody tr th:only-of-type {\n",
       "        vertical-align: middle;\n",
       "    }\n",
       "\n",
       "    .dataframe tbody tr th {\n",
       "        vertical-align: top;\n",
       "    }\n",
       "\n",
       "    .dataframe thead th {\n",
       "        text-align: right;\n",
       "    }\n",
       "</style>\n",
       "<table border=\"1\" class=\"dataframe\">\n",
       "  <thead>\n",
       "    <tr style=\"text-align: right;\">\n",
       "      <th></th>\n",
       "      <th>Registro Teste</th>\n",
       "      <th>AcertosRF</th>\n",
       "      <th>AcertosGB</th>\n",
       "      <th>AcertosAB</th>\n",
       "    </tr>\n",
       "  </thead>\n",
       "  <tbody>\n",
       "    <tr>\n",
       "      <th>10</th>\n",
       "      <td>1169</td>\n",
       "      <td>744</td>\n",
       "      <td>823</td>\n",
       "      <td>936</td>\n",
       "    </tr>\n",
       "    <tr>\n",
       "      <th>11</th>\n",
       "      <td>102</td>\n",
       "      <td>0</td>\n",
       "      <td>1</td>\n",
       "      <td>0</td>\n",
       "    </tr>\n",
       "    <tr>\n",
       "      <th>12</th>\n",
       "      <td>202</td>\n",
       "      <td>59</td>\n",
       "      <td>16</td>\n",
       "      <td>0</td>\n",
       "    </tr>\n",
       "    <tr>\n",
       "      <th>13</th>\n",
       "      <td>51</td>\n",
       "      <td>0</td>\n",
       "      <td>0</td>\n",
       "      <td>2</td>\n",
       "    </tr>\n",
       "    <tr>\n",
       "      <th>14</th>\n",
       "      <td>1690</td>\n",
       "      <td>1366</td>\n",
       "      <td>1181</td>\n",
       "      <td>980</td>\n",
       "    </tr>\n",
       "    <tr>\n",
       "      <th>15</th>\n",
       "      <td>2654</td>\n",
       "      <td>2471</td>\n",
       "      <td>2447</td>\n",
       "      <td>2369</td>\n",
       "    </tr>\n",
       "  </tbody>\n",
       "</table>\n",
       "</div>"
      ],
      "text/plain": [
       "    Registro Teste  AcertosRF  AcertosGB  AcertosAB\n",
       "10            1169        744        823        936\n",
       "11             102          0          1          0\n",
       "12             202         59         16          0\n",
       "13              51          0          0          2\n",
       "14            1690       1366       1181        980\n",
       "15            2654       2471       2447       2369"
      ]
     },
     "execution_count": 208,
     "metadata": {},
     "output_type": "execute_result"
    }
   ],
   "source": [
    "df_resultAcert"
   ]
  },
  {
   "cell_type": "markdown",
   "metadata": {},
   "source": [
    "Analisando o resultado acima observa-se que os cod_lits(14 e 15) obtiveram excelentes resultados de acurácia com valor de 93,10% para RF no cod_lit=15, 92,20% para GB no cod_lit=15, 89,26% para AB no cod_lit=15, 80,82% para RF no cod_lit=14, 69,88% para GB no cod_lit=14 e 58,00% para AB no cod_lit=14 estando o RF com melhor resultado. Para o cod_lit(10) o melhor resultado de acurácia está no AB com valor igual a 80,07%. Os cod_lits (11,12 e 13) pelas características já citadas, possuem poucos registros no respectivo dataset e sua acurácia para classificação foi bastante baixa."
   ]
  },
  {
   "cell_type": "markdown",
   "metadata": {},
   "source": [
    "Em relação a aplicação da Cross-validation para analisar os dados de treinamento observa-se que para os algoritmos GB e AB os valores de acurácia, precision, recall e f1 seguem os padrões encontrados de acurária para o % de registro de testes (30%). Para o algoritmo RF os valores de cross-validation são melhores indicando um melhor treinamento e teste com outros intervalos de % para teste (diferente de 30%) e com outras combinações para divisão de treinamento e teste (ajuste da forma aleatória). A configuração do cross-validation dividiu, por padrão, todo o dataset em k=5 e após aplicou as funções do cross-validation."
   ]
  },
  {
   "cell_type": "markdown",
   "metadata": {},
   "source": [
    "Observa-se no geral que o RF possui melhor resultado de acurária com 79,07% seguido do GB com 76,14% e o AB com 73,05%. Para o cod_lit=14 e 15 o melhor algoritmo é o RF e para o cod_lit=10 o melhor resultado está no algoritmo AB.\n",
    "Importante destacar que o dataset deve ser incrementado com mais registros (nas litologias presentes ou mesmo adicionando novas litologias), dados geofísicos de outras expedições IODP ou mesmo rodando algum método de interpolação de valores conforme o(s) intervalo(s) de profundidade selecionados."
   ]
  },
  {
   "cell_type": "code",
   "execution_count": null,
   "metadata": {},
   "outputs": [],
   "source": []
  }
 ],
 "metadata": {
  "colab": {
   "name": "Projeto I - Aplicação de Métodos de Aprendizagem de Máquina  - Entrega I - TEMPLATE",
   "provenance": []
  },
  "kernelspec": {
   "display_name": "Python 3",
   "language": "python",
   "name": "python3"
  },
  "language_info": {
   "codemirror_mode": {
    "name": "ipython",
    "version": 3
   },
   "file_extension": ".py",
   "mimetype": "text/x-python",
   "name": "python",
   "nbconvert_exporter": "python",
   "pygments_lexer": "ipython3",
   "version": "3.7.10"
  }
 },
 "nbformat": 4,
 "nbformat_minor": 1
}
