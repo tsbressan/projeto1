{
 "cells": [
  {
   "cell_type": "markdown",
   "metadata": {},
   "source": [
    "# Etapa II - Projeto I - Aplicação de Métodos de Aprendizagem de Máquina"
   ]
  },
  {
   "cell_type": "markdown",
   "metadata": {},
   "source": [
    "Importação das bibliotecas"
   ]
  },
  {
   "cell_type": "code",
   "execution_count": 1,
   "metadata": {},
   "outputs": [],
   "source": [
    "import itertools\n",
    "from sklearn.ensemble import RandomForestClassifier\n",
    "from sklearn.model_selection import train_test_split\n",
    "import pandas as pd\n",
    "import matplotlib.pyplot as plt\n",
    "import numpy as np\n",
    "from sklearn.model_selection import cross_val_score\n",
    "from sklearn import metrics\n",
    "from sklearn.metrics import confusion_matrix\n",
    "from sklearn import preprocessing\n",
    "from sklearn.metrics import plot_confusion_matrix\n",
    "\n",
    "import warnings\n",
    "warnings.filterwarnings(\"ignore\")"
   ]
  },
  {
   "cell_type": "markdown",
   "metadata": {},
   "source": [
    "Arquivo específico de configuração. \n",
    "Será separada algumas informações em arquivo próprio (.py) visando melhorar a configuração\n",
    "e possível portabilidade entre computadores evitando editar esse arquivo."
   ]
  },
  {
   "cell_type": "code",
   "execution_count": 2,
   "metadata": {},
   "outputs": [],
   "source": [
    "import config\n",
    "#config start\n",
    "dataset = config.dataset + \"IODP/\"\n",
    "#-----------"
   ]
  },
  {
   "cell_type": "markdown",
   "metadata": {},
   "source": [
    "Definição de funções específicas para utilização no código\n",
    "Função: print_accuracy_report - imprime resumo completo do cross validation.\n",
    "Função: plot_confusion_matrix - imprime resumo completo da matriz confusão."
   ]
  },
  {
   "cell_type": "code",
   "execution_count": 3,
   "metadata": {},
   "outputs": [],
   "source": [
    "#functions-----\n",
    "def print_accuracy_report(classifier_rf, X_train, y_train, num_validations=5):\n",
    "    accuracy = cross_val_score(classifier_rf, X_train, y_train, scoring='accuracy', cv=num_validations)\n",
    "    print (\"Accuracy:\" + str(round(100*accuracy.mean(), 2)) + \"%\")\n",
    "    f1 = cross_val_score(classifier_rf,X_train, y_train, scoring='f1_macro', cv=num_validations)\n",
    "    print (\"F1: \" + str(round(100*f1.mean(), 2)) + \"%\")\n",
    "    precision = cross_val_score(classifier_rf,X_train, y_train, scoring='precision_weighted', cv=num_validations)\n",
    "    print (\"Precision: \" + str(round(100*precision.mean(), 2)) + \"%\")\n",
    "    recall = cross_val_score(classifier_rf, X_train, y_train, scoring='recall_weighted', cv=num_validations)\n",
    "    print (\"Recall: \" + str(round(100*recall.mean(), 2)) + \"%\") \n",
    "    \n",
    "def plot_confusion_matrix(cm, classes,\n",
    "                          normalize=False,\n",
    "                          title='Confusion matrix',\n",
    "                          cmap=plt.cm.Blues\n",
    "                          ):\n",
    "    \"\"\"\n",
    "    This function prints and plots the confusion matrix.\n",
    "    Normalization can be applied by setting `normalize=True`.\n",
    "    \"\"\"\n",
    "    if normalize:\n",
    "        cm = cm.astype('float') / cm.sum(axis=1)[:, np.newaxis]\n",
    "        print(\"Normalized confusion matrix\")\n",
    "    else:\n",
    "        print('Confusion matrix, without normalization')\n",
    "\n",
    "    print(cm)\n",
    "\n",
    "\n",
    "    plt.figure(figsize=(8, 6))\n",
    "    plt.imshow(cm, interpolation='nearest', cmap=cmap)\n",
    "    plt.title(title)\n",
    "    plt.colorbar()\n",
    "    tick_marks = np.arange(len(classes))\n",
    "    plt.xticks(tick_marks, classes, rotation=45)\n",
    "    plt.yticks(tick_marks, classes)\n",
    "\n",
    "    fmt = '.2f' if normalize else 'd'\n",
    "    thresh = cm.max() / 2.\n",
    "    for i, j in itertools.product(range(cm.shape[0]), range(cm.shape[1])):\n",
    "        plt.text(j, i, format(cm[i, j], fmt),\n",
    "                 horizontalalignment=\"center\",\n",
    "                 color=\"white\" if cm[i, j] > thresh else \"black\")\n",
    "    plt.xlim(-0.5, 5.5) #figure size according to quantity of cod_lit\n",
    "    plt.ylim(5.5, -0.5) #figure size according to quantity of cod_lit\n",
    "\n",
    "\n",
    "\n",
    "    plt.tight_layout()\n",
    "    plt.ylabel('Predicted label')\n",
    "    plt.xlabel('True label')   \n",
    "#-------------------"
   ]
  },
  {
   "cell_type": "markdown",
   "metadata": {},
   "source": [
    "Importar - conexão com o dataset.\n",
    "Para conexão utiliza-se a biblioteca pandas com a função read_csv() resultado na saída um dataframe"
   ]
  },
  {
   "cell_type": "code",
   "execution_count": 4,
   "metadata": {},
   "outputs": [],
   "source": [
    "name_file = dataset+\"dataset_IODP_template_GP.csv\"\n",
    "          \n",
    "\n",
    "importDt = pd.read_csv(name_file,sep=\",\")"
   ]
  },
  {
   "cell_type": "markdown",
   "metadata": {},
   "source": [
    "Imprime o nome completo da url do dataset."
   ]
  },
  {
   "cell_type": "code",
   "execution_count": 5,
   "metadata": {},
   "outputs": [
    {
     "data": {
      "text/plain": [
       "'datasets/IODP/dataset_IODP_template_GP.csv'"
      ]
     },
     "execution_count": 5,
     "metadata": {},
     "output_type": "execute_result"
    }
   ],
   "source": [
    "name_file"
   ]
  },
  {
   "cell_type": "code",
   "execution_count": null,
   "metadata": {},
   "outputs": [],
   "source": []
  },
  {
   "cell_type": "markdown",
   "metadata": {},
   "source": [
    "Aplicar os métodos de pré-processamento:\n",
    "\n",
    "Método 1: Limpeza da base, onde serão removidos espaços em branco e tipos NaN\n",
    "Para espaços em branco será utilizado a propriedade pandas dataframe replace.\n",
    "Para tipos NaN será utilizada a propriedade pandas dataframe isna() (true ou false) e propriedade loc para encontrar o valor entre true e false. valor True indica o registro como NaN e caso contrário indica false.\n",
    "\n",
    "Método 2: Normalizar os dados: será utilizada a função normalize usando a norma max.\n",
    "Dimensionar os registros de uma forma padrão visando criar uma normalização entre os registros, neste caso, a norma max. Essa função é a maneira mais comum e rápida de dimensionar os dados seguindo o dimensionamento por cada feature individualmente."
   ]
  },
  {
   "cell_type": "markdown",
   "metadata": {},
   "source": [
    "Aplicar o método 1 de pré-processamento: Limpeza da base.\n",
    "Passo 1: Encontrar valores em branco ou vazio (' ') e remover."
   ]
  },
  {
   "cell_type": "code",
   "execution_count": 6,
   "metadata": {},
   "outputs": [],
   "source": [
    "importDt[\"Offset (cm)\"]  = importDt[\"Offset (cm)\"].replace(' ', '')\n",
    "importDt[\"GRA\"]          = importDt[\"GRA\"].replace(' ', '')\n",
    "importDt[\"P-wave\"]       = importDt[\"P-wave\"].replace(' ', '')\n",
    "importDt[\"caliper\"]      = importDt[\"caliper\"].replace(' ', '')\n",
    "importDt[\"sonic\"]        = importDt[\"sonic\"].replace(' ', '')\n",
    "importDt[\"MS\"]           = importDt[\"MS\"].replace(' ', '')\n",
    "importDt[\"ReflectanceL\"] = importDt[\"ReflectanceL\"].replace(' ', '')\n",
    "importDt[\"Reflectancea\"] = importDt[\"Reflectancea\"].replace(' ', '')\n",
    "importDt[\"Reflectanceb\"] = importDt[\"Reflectanceb\"].replace(' ', '')\n",
    "importDt[\"TristimulusX\"] = importDt[\"TristimulusX\"].replace(' ', '')\n",
    "importDt[\"TristimulusY\"] = importDt[\"TristimulusY\"].replace(' ', '')\n",
    "importDt[\"TristimulusZ\"] = importDt[\"TristimulusZ\"].replace(' ', '')\n",
    "importDt[\"cod_lit\"]      = importDt[\"cod_lit\"].replace(' ', '')"
   ]
  },
  {
   "cell_type": "markdown",
   "metadata": {},
   "source": [
    "Continuação do método 1: \n",
    "Passo 2: Verificar campos do tipo NaN. Para a feature: Offset (cm), caso encontre um valor NaN será removido. \n",
    "Para as demais features será preenchido utilizando o valor da média."
   ]
  },
  {
   "cell_type": "code",
   "execution_count": 7,
   "metadata": {},
   "outputs": [],
   "source": [
    "test_isna = importDt.isna()"
   ]
  },
  {
   "cell_type": "code",
   "execution_count": 8,
   "metadata": {},
   "outputs": [],
   "source": [
    "remove_isna = test_isna.loc[test_isna['Offset (cm)'] == True]\n",
    "indexx = remove_isna.index\n",
    "importDt = importDt.drop(indexx)"
   ]
  },
  {
   "cell_type": "code",
   "execution_count": 9,
   "metadata": {},
   "outputs": [],
   "source": [
    "importDt[['GRA','P-wave','caliper','sonic','MS','ReflectanceL','Reflectancea','Reflectanceb','TristimulusX','TristimulusY','TristimulusZ']] = importDt[['GRA','P-wave','caliper','sonic','MS','ReflectanceL','Reflectancea','Reflectanceb','TristimulusX','TristimulusY','TristimulusZ']].fillna(value=importDt[['GRA','P-wave','caliper','sonic','MS','ReflectanceL','Reflectancea','Reflectanceb','TristimulusX','TristimulusY','TristimulusZ']].mean())"
   ]
  },
  {
   "cell_type": "code",
   "execution_count": null,
   "metadata": {},
   "outputs": [],
   "source": []
  },
  {
   "cell_type": "markdown",
   "metadata": {},
   "source": [
    "É visualizado um trecho de dados do dataset, por default (5 registros)\n",
    "importDt é do tipo dataframe com linhas x colunas (linhas são os registros e colunas são as features)"
   ]
  },
  {
   "cell_type": "code",
   "execution_count": 10,
   "metadata": {},
   "outputs": [
    {
     "data": {
      "text/html": [
       "<div>\n",
       "<style scoped>\n",
       "    .dataframe tbody tr th:only-of-type {\n",
       "        vertical-align: middle;\n",
       "    }\n",
       "\n",
       "    .dataframe tbody tr th {\n",
       "        vertical-align: top;\n",
       "    }\n",
       "\n",
       "    .dataframe thead th {\n",
       "        text-align: right;\n",
       "    }\n",
       "</style>\n",
       "<table border=\"1\" class=\"dataframe\">\n",
       "  <thead>\n",
       "    <tr style=\"text-align: right;\">\n",
       "      <th></th>\n",
       "      <th>Exp</th>\n",
       "      <th>Site</th>\n",
       "      <th>Hole</th>\n",
       "      <th>Core</th>\n",
       "      <th>Type</th>\n",
       "      <th>Sect</th>\n",
       "      <th>Offset (cm)</th>\n",
       "      <th>Depth CSF-A (m)</th>\n",
       "      <th>GRA</th>\n",
       "      <th>P-wave</th>\n",
       "      <th>caliper</th>\n",
       "      <th>sonic</th>\n",
       "      <th>MS</th>\n",
       "      <th>ReflectanceL</th>\n",
       "      <th>Reflectancea</th>\n",
       "      <th>Reflectanceb</th>\n",
       "      <th>TristimulusX</th>\n",
       "      <th>TristimulusY</th>\n",
       "      <th>TristimulusZ</th>\n",
       "      <th>cod_lit</th>\n",
       "    </tr>\n",
       "  </thead>\n",
       "  <tbody>\n",
       "    <tr>\n",
       "      <th>0</th>\n",
       "      <td>354</td>\n",
       "      <td>U1449</td>\n",
       "      <td>A</td>\n",
       "      <td>2</td>\n",
       "      <td>H</td>\n",
       "      <td>1</td>\n",
       "      <td>12.5</td>\n",
       "      <td>6325</td>\n",
       "      <td>1797.0</td>\n",
       "      <td>1647</td>\n",
       "      <td>6.42</td>\n",
       "      <td>38.97</td>\n",
       "      <td>134.00</td>\n",
       "      <td>30.6</td>\n",
       "      <td>1.5</td>\n",
       "      <td>-0.1</td>\n",
       "      <td>6.3</td>\n",
       "      <td>6.5</td>\n",
       "      <td>7.0</td>\n",
       "      <td>10</td>\n",
       "    </tr>\n",
       "    <tr>\n",
       "      <th>1</th>\n",
       "      <td>354</td>\n",
       "      <td>U1449</td>\n",
       "      <td>A</td>\n",
       "      <td>2</td>\n",
       "      <td>H</td>\n",
       "      <td>1</td>\n",
       "      <td>15.0</td>\n",
       "      <td>6350</td>\n",
       "      <td>1804.0</td>\n",
       "      <td>1739</td>\n",
       "      <td>6.40</td>\n",
       "      <td>36.79</td>\n",
       "      <td>140.00</td>\n",
       "      <td>32.5</td>\n",
       "      <td>0.8</td>\n",
       "      <td>-0.6</td>\n",
       "      <td>7.0</td>\n",
       "      <td>7.3</td>\n",
       "      <td>8.0</td>\n",
       "      <td>10</td>\n",
       "    </tr>\n",
       "    <tr>\n",
       "      <th>2</th>\n",
       "      <td>354</td>\n",
       "      <td>U1449</td>\n",
       "      <td>A</td>\n",
       "      <td>2</td>\n",
       "      <td>H</td>\n",
       "      <td>1</td>\n",
       "      <td>17.5</td>\n",
       "      <td>6375</td>\n",
       "      <td>1803.0</td>\n",
       "      <td>1725</td>\n",
       "      <td>6.41</td>\n",
       "      <td>37.15</td>\n",
       "      <td>168.33</td>\n",
       "      <td>30.9</td>\n",
       "      <td>0.4</td>\n",
       "      <td>0.3</td>\n",
       "      <td>6.3</td>\n",
       "      <td>6.6</td>\n",
       "      <td>7.0</td>\n",
       "      <td>10</td>\n",
       "    </tr>\n",
       "    <tr>\n",
       "      <th>3</th>\n",
       "      <td>354</td>\n",
       "      <td>U1449</td>\n",
       "      <td>A</td>\n",
       "      <td>2</td>\n",
       "      <td>H</td>\n",
       "      <td>1</td>\n",
       "      <td>20.0</td>\n",
       "      <td>6400</td>\n",
       "      <td>1705.0</td>\n",
       "      <td>1729</td>\n",
       "      <td>6.41</td>\n",
       "      <td>37.08</td>\n",
       "      <td>228.00</td>\n",
       "      <td>29.2</td>\n",
       "      <td>1.2</td>\n",
       "      <td>-0.3</td>\n",
       "      <td>5.7</td>\n",
       "      <td>5.9</td>\n",
       "      <td>6.4</td>\n",
       "      <td>10</td>\n",
       "    </tr>\n",
       "    <tr>\n",
       "      <th>4</th>\n",
       "      <td>354</td>\n",
       "      <td>U1449</td>\n",
       "      <td>A</td>\n",
       "      <td>2</td>\n",
       "      <td>H</td>\n",
       "      <td>1</td>\n",
       "      <td>22.5</td>\n",
       "      <td>6425</td>\n",
       "      <td>1799.0</td>\n",
       "      <td>1644</td>\n",
       "      <td>6.43</td>\n",
       "      <td>39.11</td>\n",
       "      <td>286.67</td>\n",
       "      <td>31.3</td>\n",
       "      <td>0.5</td>\n",
       "      <td>-0.4</td>\n",
       "      <td>6.5</td>\n",
       "      <td>6.8</td>\n",
       "      <td>7.4</td>\n",
       "      <td>10</td>\n",
       "    </tr>\n",
       "  </tbody>\n",
       "</table>\n",
       "</div>"
      ],
      "text/plain": [
       "   Exp   Site Hole  Core Type Sect  Offset (cm)  Depth CSF-A (m)     GRA  \\\n",
       "0  354  U1449    A     2    H    1         12.5             6325  1797.0   \n",
       "1  354  U1449    A     2    H    1         15.0             6350  1804.0   \n",
       "2  354  U1449    A     2    H    1         17.5             6375  1803.0   \n",
       "3  354  U1449    A     2    H    1         20.0             6400  1705.0   \n",
       "4  354  U1449    A     2    H    1         22.5             6425  1799.0   \n",
       "\n",
       "   P-wave  caliper  sonic      MS  ReflectanceL  Reflectancea  Reflectanceb  \\\n",
       "0    1647     6.42  38.97  134.00          30.6           1.5          -0.1   \n",
       "1    1739     6.40  36.79  140.00          32.5           0.8          -0.6   \n",
       "2    1725     6.41  37.15  168.33          30.9           0.4           0.3   \n",
       "3    1729     6.41  37.08  228.00          29.2           1.2          -0.3   \n",
       "4    1644     6.43  39.11  286.67          31.3           0.5          -0.4   \n",
       "\n",
       "   TristimulusX  TristimulusY  TristimulusZ  cod_lit  \n",
       "0           6.3           6.5           7.0       10  \n",
       "1           7.0           7.3           8.0       10  \n",
       "2           6.3           6.6           7.0       10  \n",
       "3           5.7           5.9           6.4       10  \n",
       "4           6.5           6.8           7.4       10  "
      ]
     },
     "execution_count": 10,
     "metadata": {},
     "output_type": "execute_result"
    }
   ],
   "source": [
    "importDt.head()"
   ]
  },
  {
   "cell_type": "markdown",
   "metadata": {},
   "source": [
    "Tamanho do dataset em linhas x colunas (registros x features)"
   ]
  },
  {
   "cell_type": "code",
   "execution_count": 11,
   "metadata": {},
   "outputs": [
    {
     "data": {
      "text/plain": [
       "(19560, 20)"
      ]
     },
     "execution_count": 11,
     "metadata": {},
     "output_type": "execute_result"
    }
   ],
   "source": [
    "importDt.shape"
   ]
  },
  {
   "cell_type": "code",
   "execution_count": null,
   "metadata": {},
   "outputs": [],
   "source": []
  },
  {
   "cell_type": "markdown",
   "metadata": {},
   "source": [
    "Divisão dos registros entre as litologias conforme definido no projeto."
   ]
  },
  {
   "cell_type": "code",
   "execution_count": 24,
   "metadata": {},
   "outputs": [],
   "source": [
    "count_cod_lit = importDt[\"cod_lit\"].value_counts()"
   ]
  },
  {
   "cell_type": "code",
   "execution_count": 25,
   "metadata": {},
   "outputs": [
    {
     "data": {
      "text/plain": [
       "15    8760\n",
       "14    5679\n",
       "10    3932\n",
       "12     669\n",
       "11     361\n",
       "13     159\n",
       "Name: cod_lit, dtype: int64"
      ]
     },
     "execution_count": 25,
     "metadata": {},
     "output_type": "execute_result"
    }
   ],
   "source": [
    "count_cod_lit"
   ]
  },
  {
   "cell_type": "code",
   "execution_count": null,
   "metadata": {},
   "outputs": [],
   "source": []
  },
  {
   "cell_type": "markdown",
   "metadata": {},
   "source": [
    "Selecionando as features para treinamento e teste:\n",
    "a variável X possui as features para treinamento e teste\n",
    "a variável z possui a feature específico para predição (somente a feature cod_lit)"
   ]
  },
  {
   "cell_type": "code",
   "execution_count": 26,
   "metadata": {},
   "outputs": [],
   "source": [
    "features = importDt.columns.difference([\"Exp\", \"Site\", \"Hole\",\"Core\",\"Type\",\"Sect\",\"Depth CSF-A (m)\",\"cod_lit\"])\n",
    "\n",
    "\n",
    "X = np.array(importDt[features].values)\n",
    "y = np.array(importDt['cod_lit'].values)\n"
   ]
  },
  {
   "cell_type": "code",
   "execution_count": null,
   "metadata": {},
   "outputs": [],
   "source": []
  },
  {
   "cell_type": "markdown",
   "metadata": {},
   "source": [
    "Dividir/particionar os dados:\n",
    "    Conforme especificado no projeto, é dividido os dados conforme a combinação:\n",
    "        Train e teste respectivamente: 70%-30%."
   ]
  },
  {
   "cell_type": "code",
   "execution_count": 27,
   "metadata": {},
   "outputs": [],
   "source": [
    "X_train, X_test, y_train, y_test = train_test_split(X, y, test_size=0.30,random_state=42)"
   ]
  },
  {
   "cell_type": "code",
   "execution_count": null,
   "metadata": {},
   "outputs": [],
   "source": []
  },
  {
   "cell_type": "markdown",
   "metadata": {},
   "source": [
    "Aplicar o método 2 de pré-processamento: normalização.\n",
    "axis=0 indica que cada feature é normalizada separadamente."
   ]
  },
  {
   "cell_type": "code",
   "execution_count": 28,
   "metadata": {},
   "outputs": [],
   "source": [
    "X_trainnormalized = preprocessing.normalize(X_train, norm='max', axis=0)\n",
    "X_testnormalized  = preprocessing.normalize(X_test, norm='max', axis=0)"
   ]
  },
  {
   "cell_type": "code",
   "execution_count": null,
   "metadata": {},
   "outputs": [],
   "source": []
  },
  {
   "cell_type": "markdown",
   "metadata": {},
   "source": [
    "Aplicação do algoritmo: Random Forest.\n",
    "A configuração max_depth e n_estimators segue um valor definido de forma arbitrária conforme os melhores valores observados \n",
    "entre treinamento e teste. Observa-se que partir de n_estimators=400 estabeliza-se o valor  da acurácia."
   ]
  },
  {
   "cell_type": "code",
   "execution_count": 55,
   "metadata": {},
   "outputs": [
    {
     "data": {
      "text/plain": [
       "RandomForestClassifier(max_depth=10, n_estimators=400, n_jobs=-1,\n",
       "                       random_state=42)"
      ]
     },
     "execution_count": 55,
     "metadata": {},
     "output_type": "execute_result"
    }
   ],
   "source": [
    "classifier_rf = RandomForestClassifier(max_depth=10, n_estimators=400, random_state=42, n_jobs=-1)\n",
    "classifier_rf.fit(X_trainnormalized, y_train)"
   ]
  },
  {
   "cell_type": "code",
   "execution_count": null,
   "metadata": {},
   "outputs": [],
   "source": []
  },
  {
   "cell_type": "code",
   "execution_count": null,
   "metadata": {},
   "outputs": [],
   "source": [
    "Utilização de métricas para avaliar os resultados."
   ]
  },
  {
   "cell_type": "code",
   "execution_count": 56,
   "metadata": {},
   "outputs": [],
   "source": [
    "y_pred = classifier_rf.predict(X_testnormalized)"
   ]
  },
  {
   "cell_type": "code",
   "execution_count": 57,
   "metadata": {},
   "outputs": [
    {
     "name": "stdout",
     "output_type": "stream",
     "text": [
      "              precision    recall  f1-score   support\n",
      "\n",
      "          10       0.64      0.73      0.68      1014\n",
      "          11       0.00      0.00      0.00         0\n",
      "          12       0.29      0.66      0.40        90\n",
      "          13       0.00      0.00      0.00         0\n",
      "          14       0.81      0.62      0.70      2192\n",
      "          15       0.93      0.96      0.95      2572\n",
      "\n",
      "    accuracy                           0.79      5868\n",
      "   macro avg       0.44      0.50      0.46      5868\n",
      "weighted avg       0.82      0.79      0.80      5868\n",
      "\n"
     ]
    }
   ],
   "source": [
    "print(metrics.classification_report(y_pred, y_test))"
   ]
  },
  {
   "cell_type": "code",
   "execution_count": 58,
   "metadata": {},
   "outputs": [
    {
     "name": "stdout",
     "output_type": "stream",
     "text": [
      "Accuracy: \n",
      "0.7907293796864349\n"
     ]
    }
   ],
   "source": [
    "print (\"Accuracy: \")\n",
    "print(metrics.accuracy_score(y_pred, y_test))"
   ]
  },
  {
   "cell_type": "code",
   "execution_count": 59,
   "metadata": {},
   "outputs": [
    {
     "name": "stdout",
     "output_type": "stream",
     "text": [
      "Report Accuracy: \n",
      "Accuracy:84.25%\n",
      "F1: 52.44%\n",
      "Precision: 84.76%\n",
      "Recall: 84.25%\n"
     ]
    }
   ],
   "source": [
    "print (\"Report cross-validatin: \")\n",
    "print_accuracy_report(classifier_rf, X_train, y_train)"
   ]
  },
  {
   "cell_type": "code",
   "execution_count": 82,
   "metadata": {},
   "outputs": [
    {
     "name": "stdout",
     "output_type": "stream",
     "text": [
      "Confusion matrix, without normalization\n",
      "[[ 744    0    1    0  417    7]\n",
      " [  25    0    2    0   75    0]\n",
      " [   8    0   59    0  133    2]\n",
      " [  21    0    6    0   24    0]\n",
      " [ 211    0   21    0 1366   92]\n",
      " [   5    0    1    0  177 2471]]\n"
     ]
    },
    {
     "data": {
      "text/plain": [
       "<Figure size 576x432 with 0 Axes>"
      ]
     },
     "metadata": {},
     "output_type": "display_data"
    },
    {
     "data": {
      "image/png": "[encoded data removed]",
      "text/plain": [
       "<Figure size 576x432 with 2 Axes>"
      ]
     },
     "metadata": {
      "needs_background": "light"
     },
     "output_type": "display_data"
    }
   ],
   "source": [
    "# Compute confusion matrix\n",
    "cnf_matrix = confusion_matrix(y_test, y_pred)\n",
    "np.set_printoptions(precision=2)\n",
    "class_names = list(config.litho) #ajust cod_lit in config file.\n",
    "plt.figure(figsize=(8, 6))\n",
    "plot_confusion_matrix(cnf_matrix, classes=class_names,\n",
    "                      title='Confusion matrix')\n",
    "\n",
    "plt.show()"
   ]
  },
  {
   "cell_type": "code",
   "execution_count": null,
   "metadata": {},
   "outputs": [],
   "source": []
  },
  {
   "cell_type": "code",
   "execution_count": null,
   "metadata": {},
   "outputs": [],
   "source": []
  },
  {
   "cell_type": "code",
   "execution_count": null,
   "metadata": {},
   "outputs": [],
   "source": []
  }
 ],
 "metadata": {
  "colab": {
   "name": "Projeto I - Aplicação de Métodos de Aprendizagem de Máquina  - Entrega I - TEMPLATE",
   "provenance": []
  },
  "kernelspec": {
   "display_name": "Python 3",
   "language": "python",
   "name": "python3"
  },
  "language_info": {
   "codemirror_mode": {
    "name": "ipython",
    "version": 3
   },
   "file_extension": ".py",
   "mimetype": "text/x-python",
   "name": "python",
   "nbconvert_exporter": "python",
   "pygments_lexer": "ipython3",
   "version": "3.7.10"
  }
 },
 "nbformat": 4,
 "nbformat_minor": 1
}
